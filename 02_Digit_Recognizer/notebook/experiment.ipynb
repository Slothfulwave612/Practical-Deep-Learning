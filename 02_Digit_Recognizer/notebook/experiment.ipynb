{
 "cells": [
  {
   "cell_type": "code",
   "execution_count": 47,
   "metadata": {},
   "outputs": [],
   "source": [
    "import numpy as np\n",
    "import pandas as pd\n",
    "import matplotlib.pyplot as plt\n",
    "from matplotlib import rcParams\n",
    "\n",
    "import torch "
   ]
  },
  {
   "cell_type": "code",
   "execution_count": 3,
   "metadata": {},
   "outputs": [],
   "source": [
    "## read the dataset\n",
    "train_df = pd.read_pickle(\"../data/train.pkl\")\n",
    "valid_data = pd.read_pickle(\"../data/valid.pkl\")\n",
    "test_data = pd.read_pickle(\"../data/test.pkl\")"
   ]
  },
  {
   "cell_type": "markdown",
   "metadata": {},
   "source": [
    "## Baseline Model\n",
    "\n",
    "1. Accuracy on train-set: 0.65\n",
    "\n",
    "2. Accuracy on valid-set: 0.64\n",
    "\n",
    "3. Accuracy on test-set: 0.669"
   ]
  },
  {
   "cell_type": "code",
   "execution_count": 45,
   "metadata": {},
   "outputs": [],
   "source": [
    "loss_list_train = [1.787, 1.636, 1.571, 1.551, 1.541, 1.533, 1.525, 1.522, 1.515, 1.516, 1.512, 1.511, 1.508, 1.507, 1.506, 1.504, 1.502, 1.505, 1.5, 1.5, 1.498, 1.495, 1.495]\n",
    "loss_list_valid = [1.674, 1.593, 1.566, 1.551, 1.55, 1.532, 1.545, 1.527, 1.523, 1.518, 1.515, 1.512, 1.514, 1.51, 1.51, 1.507, 1.523, 1.511, 1.516, 1.511, 1.513, 1.507, 1.52]"
   ]
  }
 ],
 "metadata": {
  "kernelspec": {
   "display_name": "Python 3",
   "language": "python",
   "name": "python3"
  },
  "language_info": {
   "codemirror_mode": {
    "name": "ipython",
    "version": 3
   },
   "file_extension": ".py",
   "mimetype": "text/x-python",
   "name": "python",
   "nbconvert_exporter": "python",
   "pygments_lexer": "ipython3",
   "version": "3.8.5"
  }
 },
 "nbformat": 4,
 "nbformat_minor": 4
}
