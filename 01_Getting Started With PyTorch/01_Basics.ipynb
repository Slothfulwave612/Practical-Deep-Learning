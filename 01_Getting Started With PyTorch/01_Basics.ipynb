{
 "cells": [
  {
   "cell_type": "markdown",
   "metadata": {},
   "source": [
    "[Link To Tutorial](https://pytorch.org/tutorials/beginner/blitz/tensor_tutorial.html#sphx-glr-beginner-blitz-tensor-tutorial-py)"
   ]
  },
  {
   "cell_type": "code",
   "execution_count": 1,
   "metadata": {},
   "outputs": [],
   "source": [
    "## import necessary modules\n",
    "from __future__ import print_function\n",
    "import torch"
   ]
  },
  {
   "cell_type": "code",
   "execution_count": 2,
   "metadata": {},
   "outputs": [
    {
     "name": "stdout",
     "output_type": "stream",
     "text": [
      "PyTorch: 1.7.0\n"
     ]
    }
   ],
   "source": [
    "## versions\n",
    "print(f\"PyTorch: {torch.__version__}\")"
   ]
  },
  {
   "cell_type": "markdown",
   "metadata": {},
   "source": [
    "## Tensors\n",
    "\n",
    "* Tensors are similar to Numpy's ndarray, with the addition being that Tensors can also be used on a GPU to accelerate computing."
   ]
  },
  {
   "cell_type": "code",
   "execution_count": 5,
   "metadata": {},
   "outputs": [
    {
     "data": {
      "text/plain": [
       "tensor([[-3.2810e-01,  3.0754e-41,  0.0000e+00,  0.0000e+00],\n",
       "        [-3.3760e-01,  3.0754e-41, -3.3760e-01,  3.0754e-41],\n",
       "        [-3.3760e-01,  3.0754e-41,  0.0000e+00,  0.0000e+00],\n",
       "        [ 8.5924e+30,  4.5898e-41,  8.6132e+30,  4.5898e-41],\n",
       "        [ 9.8670e-28, -6.8178e+35,  8.8779e+30,  4.5898e-41],\n",
       "        [-3.3760e-01,  3.0754e-41, -3.3760e-01,  3.0754e-41]])"
      ]
     },
     "execution_count": 5,
     "metadata": {},
     "output_type": "execute_result"
    }
   ],
   "source": [
    "## a 6x4 matrix\n",
    "mat = torch.empty(6, 4)\n",
    "\n",
    "mat"
   ]
  },
  {
   "cell_type": "code",
   "execution_count": 6,
   "metadata": {},
   "outputs": [
    {
     "data": {
      "text/plain": [
       "tensor([[0.2090, 0.7392, 0.5284, 0.9114],\n",
       "        [0.6992, 0.0203, 0.4356, 0.8935],\n",
       "        [0.8298, 0.3358, 0.3435, 0.0930],\n",
       "        [0.3344, 0.6736, 0.9154, 0.8368],\n",
       "        [0.2075, 0.3623, 0.6710, 0.4790],\n",
       "        [0.4907, 0.3214, 0.5296, 0.0214]])"
      ]
     },
     "execution_count": 6,
     "metadata": {},
     "output_type": "execute_result"
    }
   ],
   "source": [
    "## a randomly initialized matrix\n",
    "rand_mat = torch.rand(6, 4)\n",
    "\n",
    "rand_mat"
   ]
  },
  {
   "cell_type": "code",
   "execution_count": 13,
   "metadata": {},
   "outputs": [
    {
     "data": {
      "text/plain": [
       "tensor([[0, 0, 0, 0],\n",
       "        [0, 0, 0, 0],\n",
       "        [0, 0, 0, 0],\n",
       "        [0, 0, 0, 0],\n",
       "        [0, 0, 0, 0],\n",
       "        [0, 0, 0, 0]])"
      ]
     },
     "execution_count": 13,
     "metadata": {},
     "output_type": "execute_result"
    }
   ],
   "source": [
    "## matrix of zero, dtype long\n",
    "zero_mat = torch.zeros((6, 4), dtype=torch.long)\n",
    "\n",
    "zero_mat"
   ]
  },
  {
   "cell_type": "code",
   "execution_count": 14,
   "metadata": {},
   "outputs": [
    {
     "data": {
      "text/plain": [
       "tensor([1, 2, 3, 4, 5])"
      ]
     },
     "execution_count": 14,
     "metadata": {},
     "output_type": "execute_result"
    }
   ],
   "source": [
    "## construct a tensor directly from data\n",
    "data_tensor = torch.tensor([1, 2, 3, 4, 5])\n",
    "\n",
    "data_tensor"
   ]
  },
  {
   "cell_type": "code",
   "execution_count": 16,
   "metadata": {},
   "outputs": [
    {
     "data": {
      "text/plain": [
       "torch.Size([5])"
      ]
     },
     "execution_count": 16,
     "metadata": {},
     "output_type": "execute_result"
    }
   ],
   "source": [
    "## get the size\n",
    "data_tensor.size()"
   ]
  },
  {
   "cell_type": "markdown",
   "metadata": {},
   "source": [
    "## Operations"
   ]
  },
  {
   "cell_type": "markdown",
   "metadata": {},
   "source": [
    "1) Addition"
   ]
  },
  {
   "cell_type": "code",
   "execution_count": 28,
   "metadata": {},
   "outputs": [],
   "source": [
    "x = torch.rand(5, 4)\n",
    "y = torch.rand(5, 4)"
   ]
  },
  {
   "cell_type": "code",
   "execution_count": 29,
   "metadata": {},
   "outputs": [
    {
     "data": {
      "text/plain": [
       "(tensor([[0.0066, 0.7633, 0.3157, 0.4389],\n",
       "         [0.4060, 0.7329, 0.6234, 0.6100],\n",
       "         [0.6463, 0.1608, 0.6221, 0.2454],\n",
       "         [0.9475, 0.0703, 0.8764, 0.1652],\n",
       "         [0.0137, 0.2885, 0.2287, 0.9956]]),\n",
       " tensor([[0.2131, 0.1403, 0.0149, 0.4019],\n",
       "         [0.5763, 0.0392, 0.9531, 0.8557],\n",
       "         [0.4949, 0.8877, 0.1309, 0.5898],\n",
       "         [0.8449, 0.0267, 0.3166, 0.7949],\n",
       "         [0.8213, 0.7770, 0.2186, 0.2124]]))"
      ]
     },
     "execution_count": 29,
     "metadata": {},
     "output_type": "execute_result"
    }
   ],
   "source": [
    "x, y"
   ]
  },
  {
   "cell_type": "code",
   "execution_count": 30,
   "metadata": {},
   "outputs": [
    {
     "data": {
      "text/plain": [
       "tensor([[0.2197, 0.9036, 0.3306, 0.8408],\n",
       "        [0.9823, 0.7721, 1.5765, 1.4657],\n",
       "        [1.1412, 1.0485, 0.7530, 0.8351],\n",
       "        [1.7924, 0.0970, 1.1930, 0.9601],\n",
       "        [0.8351, 1.0655, 0.4473, 1.2080]])"
      ]
     },
     "execution_count": 30,
     "metadata": {},
     "output_type": "execute_result"
    }
   ],
   "source": [
    "## add two tensor\n",
    "x + y"
   ]
  },
  {
   "cell_type": "code",
   "execution_count": 31,
   "metadata": {},
   "outputs": [
    {
     "data": {
      "text/plain": [
       "tensor([[0.2197, 0.9036, 0.3306, 0.8408],\n",
       "        [0.9823, 0.7721, 1.5765, 1.4657],\n",
       "        [1.1412, 1.0485, 0.7530, 0.8351],\n",
       "        [1.7924, 0.0970, 1.1930, 0.9601],\n",
       "        [0.8351, 1.0655, 0.4473, 1.2080]])"
      ]
     },
     "execution_count": 31,
     "metadata": {},
     "output_type": "execute_result"
    }
   ],
   "source": [
    "## other way\n",
    "torch.add(x, y)"
   ]
  },
  {
   "cell_type": "code",
   "execution_count": 32,
   "metadata": {},
   "outputs": [
    {
     "data": {
      "text/plain": [
       "tensor([[0.2197, 0.9036, 0.3306, 0.8408],\n",
       "        [0.9823, 0.7721, 1.5765, 1.4657],\n",
       "        [1.1412, 1.0485, 0.7530, 0.8351],\n",
       "        [1.7924, 0.0970, 1.1930, 0.9601],\n",
       "        [0.8351, 1.0655, 0.4473, 1.2080]])"
      ]
     },
     "execution_count": 32,
     "metadata": {},
     "output_type": "execute_result"
    }
   ],
   "source": [
    "## add two tensors and store result in third variable\n",
    "\n",
    "## make tensor where result will be stored\n",
    "result = torch.empty(5, 4)\n",
    "\n",
    "torch.add(x, y, out=result)\n",
    "\n",
    "result"
   ]
  },
  {
   "cell_type": "code",
   "execution_count": 33,
   "metadata": {},
   "outputs": [
    {
     "data": {
      "text/plain": [
       "tensor([[0.2197, 0.9036, 0.3306, 0.8408],\n",
       "        [0.9823, 0.7721, 1.5765, 1.4657],\n",
       "        [1.1412, 1.0485, 0.7530, 0.8351],\n",
       "        [1.7924, 0.0970, 1.1930, 0.9601],\n",
       "        [0.8351, 1.0655, 0.4473, 1.2080]])"
      ]
     },
     "execution_count": 33,
     "metadata": {},
     "output_type": "execute_result"
    }
   ],
   "source": [
    "## another way\n",
    "result = x + y\n",
    "\n",
    "result"
   ]
  },
  {
   "cell_type": "code",
   "execution_count": 34,
   "metadata": {},
   "outputs": [
    {
     "data": {
      "text/plain": [
       "tensor([[0.2197, 0.9036, 0.3306, 0.8408],\n",
       "        [0.9823, 0.7721, 1.5765, 1.4657],\n",
       "        [1.1412, 1.0485, 0.7530, 0.8351],\n",
       "        [1.7924, 0.0970, 1.1930, 0.9601],\n",
       "        [0.8351, 1.0655, 0.4473, 1.2080]])"
      ]
     },
     "execution_count": 34,
     "metadata": {},
     "output_type": "execute_result"
    }
   ],
   "source": [
    "## in place addition: add x to y\n",
    "y.add_(x)\n",
    "\n",
    "y"
   ]
  },
  {
   "cell_type": "markdown",
   "metadata": {},
   "source": [
    "> Note: Any operation that mutates a tensor in-place is post-fixed with an _ . For example: x.copy_(y), x.t_(), will change x."
   ]
  },
  {
   "cell_type": "markdown",
   "metadata": {},
   "source": [
    "02) Slicing"
   ]
  },
  {
   "cell_type": "code",
   "execution_count": 37,
   "metadata": {},
   "outputs": [
    {
     "data": {
      "text/plain": [
       "tensor([[0.3157, 0.4389],\n",
       "        [0.6234, 0.6100],\n",
       "        [0.6221, 0.2454],\n",
       "        [0.8764, 0.1652],\n",
       "        [0.2287, 0.9956]])"
      ]
     },
     "execution_count": 37,
     "metadata": {},
     "output_type": "execute_result"
    }
   ],
   "source": [
    "## slicing\n",
    "x[:, 2:4]"
   ]
  },
  {
   "cell_type": "markdown",
   "metadata": {},
   "source": [
    "03) Resize"
   ]
  },
  {
   "cell_type": "code",
   "execution_count": 38,
   "metadata": {},
   "outputs": [],
   "source": [
    "## torch.view\n",
    "x = torch.randn(4, 4)\n",
    "y = x.view(16)\n",
    "z = x.view(-1, 8)"
   ]
  },
  {
   "cell_type": "code",
   "execution_count": 39,
   "metadata": {},
   "outputs": [
    {
     "data": {
      "text/plain": [
       "tensor([[-0.0089, -0.5315, -0.6245,  0.5478],\n",
       "        [-0.2586,  0.5438, -0.8006, -0.2822],\n",
       "        [ 0.6518, -0.6069, -0.3926, -0.8972],\n",
       "        [-2.1697,  2.4787,  0.8592,  0.0890]])"
      ]
     },
     "execution_count": 39,
     "metadata": {},
     "output_type": "execute_result"
    }
   ],
   "source": [
    "x"
   ]
  },
  {
   "cell_type": "code",
   "execution_count": 40,
   "metadata": {},
   "outputs": [
    {
     "data": {
      "text/plain": [
       "tensor([-0.0089, -0.5315, -0.6245,  0.5478, -0.2586,  0.5438, -0.8006, -0.2822,\n",
       "         0.6518, -0.6069, -0.3926, -0.8972, -2.1697,  2.4787,  0.8592,  0.0890])"
      ]
     },
     "execution_count": 40,
     "metadata": {},
     "output_type": "execute_result"
    }
   ],
   "source": [
    "y"
   ]
  },
  {
   "cell_type": "code",
   "execution_count": 41,
   "metadata": {},
   "outputs": [
    {
     "data": {
      "text/plain": [
       "tensor([[-0.0089, -0.5315, -0.6245,  0.5478, -0.2586,  0.5438, -0.8006, -0.2822],\n",
       "        [ 0.6518, -0.6069, -0.3926, -0.8972, -2.1697,  2.4787,  0.8592,  0.0890]])"
      ]
     },
     "execution_count": 41,
     "metadata": {},
     "output_type": "execute_result"
    }
   ],
   "source": [
    "z"
   ]
  },
  {
   "cell_type": "markdown",
   "metadata": {},
   "source": [
    "04) One element tensor"
   ]
  },
  {
   "cell_type": "code",
   "execution_count": 47,
   "metadata": {},
   "outputs": [
    {
     "data": {
      "text/plain": [
       "(tensor([0.6217]), 0.6217015385627747)"
      ]
     },
     "execution_count": 47,
     "metadata": {},
     "output_type": "execute_result"
    }
   ],
   "source": [
    "x = torch.randn(1)\n",
    "\n",
    "x, x.item()"
   ]
  },
  {
   "cell_type": "markdown",
   "metadata": {},
   "source": [
    "05) Converting NumPy Array to Torch Tensor"
   ]
  },
  {
   "cell_type": "code",
   "execution_count": 57,
   "metadata": {},
   "outputs": [
    {
     "data": {
      "text/plain": [
       "(array([2., 2., 2., 2., 2.]),\n",
       " tensor([2., 2., 2., 2., 2.], dtype=torch.float64))"
      ]
     },
     "execution_count": 57,
     "metadata": {},
     "output_type": "execute_result"
    }
   ],
   "source": [
    "import numpy as np\n",
    "\n",
    "a = np.ones(5)\n",
    "b = torch.from_numpy(a)  ## picks from the same memory location\n",
    "\n",
    "np.add(a, 1, out=a)\n",
    "\n",
    "a, b"
   ]
  },
  {
   "cell_type": "markdown",
   "metadata": {},
   "source": [
    "06) CUDA Tensor"
   ]
  },
  {
   "cell_type": "code",
   "execution_count": 58,
   "metadata": {},
   "outputs": [
    {
     "name": "stdout",
     "output_type": "stream",
     "text": [
      "tensor([1.6217], device='cuda:0')\n",
      "tensor([1.6217], dtype=torch.float64)\n"
     ]
    }
   ],
   "source": [
    "# let us run this cell only if CUDA is available\n",
    "# We will use ``torch.device`` objects to move tensors in and out of GPU\n",
    "\n",
    "if torch.cuda.is_available():\n",
    "    device = torch.device(\"cuda\")          # a CUDA device object\n",
    "    y = torch.ones_like(x, device=device)  # directly create a tensor on GPU\n",
    "    x = x.to(device)                       # or just use strings ``.to(\"cuda\")``\n",
    "    z = x + y\n",
    "    print(z)\n",
    "    print(z.to(\"cpu\", torch.double))       # ``.to`` can also change dtype together!"
   ]
  }
 ],
 "metadata": {
  "kernelspec": {
   "display_name": "Python 3",
   "language": "python",
   "name": "python3"
  },
  "language_info": {
   "codemirror_mode": {
    "name": "ipython",
    "version": 3
   },
   "file_extension": ".py",
   "mimetype": "text/x-python",
   "name": "python",
   "nbconvert_exporter": "python",
   "pygments_lexer": "ipython3",
   "version": "3.8.5"
  }
 },
 "nbformat": 4,
 "nbformat_minor": 4
}
