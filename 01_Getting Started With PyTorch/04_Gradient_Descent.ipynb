{
 "cells": [
  {
   "cell_type": "markdown",
   "metadata": {},
   "source": [
    "[Link To Tutorial](https://www.youtube.com/watch?v=E-I2DNVzQLg&list=PLqnslRFeH2UrcDBWF5mfPGpqQDSta6VK4&index=5)"
   ]
  },
  {
   "cell_type": "code",
   "execution_count": 1,
   "metadata": {},
   "outputs": [],
   "source": [
    "## required modules\n",
    "import torch"
   ]
  },
  {
   "cell_type": "code",
   "execution_count": 2,
   "metadata": {},
   "outputs": [
    {
     "name": "stdout",
     "output_type": "stream",
     "text": [
      "PyTorch: 1.7.0\n"
     ]
    }
   ],
   "source": [
    "## version\n",
    "print(f\"PyTorch: {torch.__version__}\")"
   ]
  },
  {
   "cell_type": "code",
   "execution_count": 15,
   "metadata": {},
   "outputs": [],
   "source": [
    "## model prediction\n",
    "def forward(x):\n",
    "    return (x * weight)\n",
    "\n",
    "## MSE loss\n",
    "def loss(y, y_pred):\n",
    "    return ((y_pred - y)**2).mean()"
   ]
  },
  {
   "cell_type": "code",
   "execution_count": 47,
   "metadata": {},
   "outputs": [
    {
     "name": "stdout",
     "output_type": "stream",
     "text": [
      "Prediction before training f(5) = 0.000\n",
      "Epoch 0: w=0.300, loss=30.000000\n",
      "Epoch 10: w=1.665, loss=1.162786\n",
      "Epoch 20: w=1.934, loss=0.045069\n",
      "Epoch 30: w=1.987, loss=0.001747\n",
      "Epoch 40: w=1.997, loss=0.000068\n",
      "Epoch 50: w=1.999, loss=0.000003\n",
      "Epoch 60: w=2.000, loss=0.000000\n",
      "Epoch 70: w=2.000, loss=0.000000\n",
      "Epoch 80: w=2.000, loss=0.000000\n",
      "Epoch 90: w=2.000, loss=0.000000\n",
      "Prediction after training f(5) = 10.000\n"
     ]
    }
   ],
   "source": [
    "## init tensors\n",
    "X = torch.tensor([1, 2, 3, 4], dtype=torch.float32)\n",
    "y = torch.tensor([2, 4, 6, 8], dtype=torch.float32)\n",
    "\n",
    "## weights\n",
    "weight = torch.tensor(0.0, dtype=torch.float32, requires_grad=True)\n",
    "\n",
    "print(f\"Prediction before training f(5) = {forward(5):.3f}\")\n",
    "\n",
    "## training\n",
    "learning_rate = 0.01\n",
    "epochs = 100\n",
    "\n",
    "for epoch in range(epochs):\n",
    "    ## forward pass\n",
    "    y_pred = forward(X)\n",
    "    \n",
    "    ## loss\n",
    "    l = loss(y, y_pred)\n",
    "    \n",
    "    ## backward pass --> dl/dw \n",
    "    l.backward()\n",
    "    \n",
    "    ## update weight\n",
    "    with torch.no_grad():\n",
    "        ## weight updation should not be a part of gradient tracking\n",
    "        weight -= learning_rate * weight.grad\n",
    "        \n",
    "    ## zero gradients\n",
    "    weight.grad.zero_()\n",
    "        \n",
    "    if epoch % 10 == 0:\n",
    "        print(f\"Epoch {epoch}: w={weight:.3f}, loss={l:.6f}\")\n",
    "        \n",
    "print(f\"Prediction after training f(5) = {forward(5):.3f}\")    "
   ]
  }
 ],
 "metadata": {
  "kernelspec": {
   "display_name": "Python 3",
   "language": "python",
   "name": "python3"
  },
  "language_info": {
   "codemirror_mode": {
    "name": "ipython",
    "version": 3
   },
   "file_extension": ".py",
   "mimetype": "text/x-python",
   "name": "python",
   "nbconvert_exporter": "python",
   "pygments_lexer": "ipython3",
   "version": "3.8.5"
  }
 },
 "nbformat": 4,
 "nbformat_minor": 4
}
